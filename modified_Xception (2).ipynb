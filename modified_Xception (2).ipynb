{
  "nbformat": 4,
  "nbformat_minor": 0,
  "metadata": {
    "colab": {
      "name": "modified_Xception.ipynb",
      "provenance": [],
      "collapsed_sections": []
    },
    "kernelspec": {
      "name": "python3",
      "display_name": "Python 3"
    },
    "language_info": {
      "name": "python"
    }
  },
  "cells": [
    {
      "cell_type": "code",
      "execution_count": 1,
      "metadata": {
        "id": "aPRvLCmJjfzv"
      },
      "outputs": [],
      "source": [
        "import numpy as np\n",
        "import matplotlib.pyplot as plt\n",
        "import os\n",
        "from tqdm import tqdm\n",
        "import cv2 as cv\n",
        "from PIL import Image"
      ]
    },
    {
      "cell_type": "code",
      "source": [
        "%matplotlib inline"
      ],
      "metadata": {
        "id": "ZQyhKtaHjoTr"
      },
      "execution_count": 2,
      "outputs": []
    },
    {
      "cell_type": "code",
      "source": [
        "%cd D:\\Manu sir\\Malaria\\cell_images"
      ],
      "metadata": {
        "colab": {
          "base_uri": "https://localhost:8080/"
        },
        "id": "32fN2bj1juK6",
        "outputId": "bf42f1e0-23f5-4326-e441-f19459fd3937"
      },
      "execution_count": 3,
      "outputs": [
        {
          "output_type": "stream",
          "name": "stdout",
          "text": [
            "D:\\Manu sir\\Malaria\\cell_images\n"
          ]
        }
      ]
    },
    {
      "cell_type": "code",
      "source": [
        "un=\"Uninfected\"\n",
        "#print(\"no of uninfected images : \",len(os.listdir(un)))"
      ],
      "metadata": {
        "id": "Y2CsEfkUjva9"
      },
      "execution_count": 4,
      "outputs": []
    },
    {
      "cell_type": "code",
      "source": [
        "para=\"Parasitized\"\n",
        "#print(\"No parasitized images : \",len(os.listdir(para)))"
      ],
      "metadata": {
        "id": "RAGw9MAujwxQ"
      },
      "execution_count": 5,
      "outputs": []
    },
    {
      "cell_type": "code",
      "source": [
        "unin=[]\n",
        "for image in tqdm(os.listdir(un)):\n",
        "    if image!=\"Thumbs.db\":\n",
        "        img=Image.open(os.path.join(un,image))\n",
        "        img=img.resize((64,64))\n",
        "        img=np.asarray(img)\n",
        "        unin.append(img)"
      ],
      "metadata": {
        "colab": {
          "base_uri": "https://localhost:8080/"
        },
        "id": "i2cB2pvcjyiX",
        "outputId": "a24174a7-6eaa-406b-c8d0-71756af4353e"
      },
      "execution_count": 6,
      "outputs": [
        {
          "output_type": "stream",
          "name": "stderr",
          "text": [
            "100%|████████████████████████████████████████████████████████████████████████████| 13780/13780 [02:33<00:00, 89.69it/s]\n"
          ]
        }
      ]
    },
    {
      "cell_type": "code",
      "source": [
        "par=[]\n",
        "for image in tqdm(os.listdir(para)):\n",
        "    if image!=\"Thumbs.db\":\n",
        "        img=Image.open(os.path.join(para,image))\n",
        "        img=img.resize((64,64))\n",
        "        img=np.asarray(img)\n",
        "        par.append(img)"
      ],
      "metadata": {
        "id": "wXUgdTiAjz9U",
        "colab": {
          "base_uri": "https://localhost:8080/"
        },
        "outputId": "9c662a4e-2150-4b6c-b0d2-acfc89bfb03b"
      },
      "execution_count": 7,
      "outputs": [
        {
          "output_type": "stream",
          "name": "stderr",
          "text": [
            "100%|████████████████████████████████████████████████████████████████████████████| 13780/13780 [03:02<00:00, 75.67it/s]\n"
          ]
        }
      ]
    },
    {
      "cell_type": "code",
      "source": [
        "ov_images=unin+par"
      ],
      "metadata": {
        "id": "B2HWkojjnLlk"
      },
      "execution_count": 8,
      "outputs": []
    },
    {
      "cell_type": "code",
      "source": [
        "labels=([0]*(len(os.listdir(un))-1))+([1]*(len(os.listdir(para))-1))"
      ],
      "metadata": {
        "id": "JclRe_5CnPAz"
      },
      "execution_count": 9,
      "outputs": []
    },
    {
      "cell_type": "code",
      "source": [
        "ov_images=np.array(ov_images)"
      ],
      "metadata": {
        "id": "U55JOiEqnQvN"
      },
      "execution_count": 10,
      "outputs": []
    },
    {
      "cell_type": "code",
      "source": [
        "labels=np.array(labels)"
      ],
      "metadata": {
        "id": "l-E4BljdnTdQ"
      },
      "execution_count": 11,
      "outputs": []
    },
    {
      "cell_type": "code",
      "source": [
        "ov_images=ov_images/255"
      ],
      "metadata": {
        "id": "xDnYV8FvnWEz"
      },
      "execution_count": 12,
      "outputs": []
    },
    {
      "cell_type": "code",
      "source": [
        "from sklearn.utils import shuffle"
      ],
      "metadata": {
        "id": "4Ms-3EWcnYvg"
      },
      "execution_count": 13,
      "outputs": []
    },
    {
      "cell_type": "code",
      "source": [
        "ov_images,labels=shuffle(ov_images,labels)"
      ],
      "metadata": {
        "id": "8KL9XQN-nbK-"
      },
      "execution_count": 14,
      "outputs": []
    },
    {
      "cell_type": "code",
      "source": [
        "from sklearn.model_selection import train_test_split"
      ],
      "metadata": {
        "id": "YCpziU5KndON"
      },
      "execution_count": 15,
      "outputs": []
    },
    {
      "cell_type": "code",
      "source": [
        "x_train,x_test,y_train,y_test=train_test_split(ov_images,labels,test_size=0.2)"
      ],
      "metadata": {
        "id": "wJ5q9vLrne_V"
      },
      "execution_count": 16,
      "outputs": []
    },
    {
      "cell_type": "code",
      "source": [
        "import tensorflow as tf\n",
        "from tensorflow.keras import Sequential\n",
        "from tensorflow.keras.layers import Flatten, Dense, Conv2D, MaxPool2D, Dropout\n",
        "\n",
        "from tensorflow.keras.preprocessing.image import ImageDataGenerator\n"
      ],
      "metadata": {
        "id": "G1BdLKrGnxUZ"
      },
      "execution_count": 17,
      "outputs": []
    },
    {
      "cell_type": "code",
      "source": [
        "tf.keras.Sequential([\n",
        "  tf.keras.layers.experimental.preprocessing.RandomFlip('horizontal'),\n",
        "  tf.keras.layers.experimental.preprocessing.RandomHeight(factor=(0.2, 0.3)),\n",
        "  tf.keras.layers.experimental.preprocessing.RandomWidth(factor=(0.2, 0.3)),\n",
        "  tf.keras.layers.experimental.preprocessing.RandomRotation(0.2),\n",
        "])"
      ],
      "metadata": {
        "colab": {
          "base_uri": "https://localhost:8080/"
        },
        "id": "nV0xrq2bs9fn",
        "outputId": "9199174a-a43a-4023-8fcc-1b295a5ee980"
      },
      "execution_count": 53,
      "outputs": [
        {
          "output_type": "execute_result",
          "data": {
            "text/plain": [
              "<keras.engine.sequential.Sequential at 0x202d0b21d30>"
            ]
          },
          "metadata": {},
          "execution_count": 53
        }
      ]
    },
    {
      "cell_type": "code",
      "source": [
        "model4 = Sequential()\n",
        "\n",
        "model4._name=\"Modified_Xception\"\n",
        "model4.add(Conv2D(16, (3,3), input_shape = (64, 64, 3), activation='relu'))\n",
        "model4.add(MaxPool2D(2,2))\n",
        "model4.add(Dropout(0.2))\n",
        "\n",
        "model4.add(Conv2D(32, (3,3), activation='relu'))\n",
        "model4.add(MaxPool2D(2,2))\n",
        "model4.add(Dropout(0.3))\n",
        "\n",
        "model4.add(Flatten())\n",
        "model4.add(Dense(64, activation='relu'))\n",
        "model4.add(Dropout(0.5))\n",
        "\n",
        "model4.add(Dense(1, activation='sigmoid'))"
      ],
      "metadata": {
        "id": "UeXCwWHDnirN"
      },
      "execution_count": 51,
      "outputs": []
    },
    {
      "cell_type": "code",
      "source": [
        "model4.summary()"
      ],
      "metadata": {
        "colab": {
          "base_uri": "https://localhost:8080/"
        },
        "id": "QdVQVUPDo9fW",
        "outputId": "642e921f-6127-47de-f56f-e4147b6644c8"
      },
      "execution_count": 52,
      "outputs": [
        {
          "output_type": "stream",
          "name": "stdout",
          "text": [
            "Model: \"Modified_Xception\"\n",
            "_________________________________________________________________\n",
            " Layer (type)                Output Shape              Param #   \n",
            "=================================================================\n",
            " conv2d_6 (Conv2D)           (None, 62, 62, 16)        448       \n",
            "                                                                 \n",
            " max_pooling2d_6 (MaxPooling  (None, 31, 31, 16)       0         \n",
            " 2D)                                                             \n",
            "                                                                 \n",
            " dropout_9 (Dropout)         (None, 31, 31, 16)        0         \n",
            "                                                                 \n",
            " conv2d_7 (Conv2D)           (None, 29, 29, 32)        4640      \n",
            "                                                                 \n",
            " max_pooling2d_7 (MaxPooling  (None, 14, 14, 32)       0         \n",
            " 2D)                                                             \n",
            "                                                                 \n",
            " dropout_10 (Dropout)        (None, 14, 14, 32)        0         \n",
            "                                                                 \n",
            " flatten_3 (Flatten)         (None, 6272)              0         \n",
            "                                                                 \n",
            " dense_6 (Dense)             (None, 64)                401472    \n",
            "                                                                 \n",
            " dropout_11 (Dropout)        (None, 64)                0         \n",
            "                                                                 \n",
            " dense_7 (Dense)             (None, 1)                 65        \n",
            "                                                                 \n",
            "=================================================================\n",
            "Total params: 406,625\n",
            "Trainable params: 406,625\n",
            "Non-trainable params: 0\n",
            "_________________________________________________________________\n"
          ]
        }
      ]
    },
    {
      "cell_type": "code",
      "source": [
        "model4.compile(optimizer='adam', loss='binary_crossentropy', metrics = ['accuracy'])"
      ],
      "metadata": {
        "id": "yoirl3FmorJB"
      },
      "execution_count": 31,
      "outputs": []
    },
    {
      "cell_type": "code",
      "source": [
        "history = model4.fit(x_train,y_train,\n",
        "                              epochs = 20,\n",
        "                              validation_data=(x_test,y_test))"
      ],
      "metadata": {
        "colab": {
          "base_uri": "https://localhost:8080/"
        },
        "id": "CVT8UaObpAGj",
        "outputId": "08c6c360-8e15-454f-d4fc-e15b40102fc7"
      },
      "execution_count": 32,
      "outputs": [
        {
          "output_type": "stream",
          "name": "stdout",
          "text": [
            "Epoch 1/20\n",
            "689/689 [==============================] - 25s 34ms/step - loss: 0.5901 - accuracy: 0.6924 - val_loss: 0.3495 - val_accuracy: 0.8904\n",
            "Epoch 2/20\n",
            "689/689 [==============================] - 22s 32ms/step - loss: 0.2613 - accuracy: 0.9061 - val_loss: 0.1780 - val_accuracy: 0.9343\n",
            "Epoch 3/20\n",
            "689/689 [==============================] - 21s 31ms/step - loss: 0.2016 - accuracy: 0.9319 - val_loss: 0.1580 - val_accuracy: 0.9468\n",
            "Epoch 4/20\n",
            "689/689 [==============================] - 22s 33ms/step - loss: 0.1845 - accuracy: 0.9387 - val_loss: 0.1484 - val_accuracy: 0.9519\n",
            "Epoch 5/20\n",
            "689/689 [==============================] - 23s 33ms/step - loss: 0.1774 - accuracy: 0.9440 - val_loss: 0.1473 - val_accuracy: 0.9539\n",
            "Epoch 6/20\n",
            "689/689 [==============================] - 24s 35ms/step - loss: 0.1629 - accuracy: 0.9497 - val_loss: 0.1431 - val_accuracy: 0.9556\n",
            "Epoch 7/20\n",
            "689/689 [==============================] - 24s 34ms/step - loss: 0.1540 - accuracy: 0.9492 - val_loss: 0.1429 - val_accuracy: 0.9523\n",
            "Epoch 8/20\n",
            "689/689 [==============================] - 22s 32ms/step - loss: 0.1471 - accuracy: 0.9529 - val_loss: 0.1427 - val_accuracy: 0.9494\n",
            "Epoch 9/20\n",
            "689/689 [==============================] - 22s 32ms/step - loss: 0.1449 - accuracy: 0.9528 - val_loss: 0.1451 - val_accuracy: 0.9507\n",
            "Epoch 10/20\n",
            "689/689 [==============================] - 21s 31ms/step - loss: 0.1391 - accuracy: 0.9535 - val_loss: 0.1391 - val_accuracy: 0.9543\n",
            "Epoch 11/20\n",
            "689/689 [==============================] - 21s 30ms/step - loss: 0.1309 - accuracy: 0.9549 - val_loss: 0.1432 - val_accuracy: 0.9526\n",
            "Epoch 12/20\n",
            "689/689 [==============================] - 23s 34ms/step - loss: 0.1275 - accuracy: 0.9570 - val_loss: 0.1328 - val_accuracy: 0.9557\n",
            "Epoch 13/20\n",
            "689/689 [==============================] - 23s 34ms/step - loss: 0.1193 - accuracy: 0.9600 - val_loss: 0.1348 - val_accuracy: 0.9532\n",
            "Epoch 14/20\n",
            "689/689 [==============================] - 21s 31ms/step - loss: 0.1176 - accuracy: 0.9602 - val_loss: 0.1318 - val_accuracy: 0.9575\n",
            "Epoch 15/20\n",
            "689/689 [==============================] - 21s 31ms/step - loss: 0.1103 - accuracy: 0.9620 - val_loss: 0.1513 - val_accuracy: 0.9510\n",
            "Epoch 16/20\n",
            "689/689 [==============================] - 23s 33ms/step - loss: 0.1081 - accuracy: 0.9612 - val_loss: 0.1411 - val_accuracy: 0.9541\n",
            "Epoch 17/20\n",
            "689/689 [==============================] - 23s 33ms/step - loss: 0.1053 - accuracy: 0.9636 - val_loss: 0.1507 - val_accuracy: 0.9503\n",
            "Epoch 18/20\n",
            "689/689 [==============================] - 22s 32ms/step - loss: 0.0988 - accuracy: 0.9657 - val_loss: 0.1375 - val_accuracy: 0.9575\n",
            "Epoch 19/20\n",
            "689/689 [==============================] - 23s 33ms/step - loss: 0.0994 - accuracy: 0.9651 - val_loss: 0.1453 - val_accuracy: 0.9559\n",
            "Epoch 20/20\n",
            "689/689 [==============================] - 23s 33ms/step - loss: 0.0956 - accuracy: 0.9663 - val_loss: 0.1480 - val_accuracy: 0.9534\n"
          ]
        }
      ]
    },
    {
      "cell_type": "code",
      "source": [
        "yhat=model4.predict(x_test)>0.5"
      ],
      "metadata": {
        "id": "hqZ2MIyWpNW6",
        "colab": {
          "base_uri": "https://localhost:8080/"
        },
        "outputId": "89e1acf9-5931-4f06-96ba-203e6a58af7e"
      },
      "execution_count": 33,
      "outputs": [
        {
          "output_type": "stream",
          "name": "stdout",
          "text": [
            "173/173 [==============================] - 1s 8ms/step\n"
          ]
        }
      ]
    },
    {
      "cell_type": "code",
      "source": [
        "yhat"
      ],
      "metadata": {
        "colab": {
          "base_uri": "https://localhost:8080/"
        },
        "id": "9As89a_GtzxY",
        "outputId": "83105a62-5aff-4b80-a758-7a8abad8133e"
      },
      "execution_count": 34,
      "outputs": [
        {
          "output_type": "execute_result",
          "data": {
            "text/plain": [
              "array([[ True],\n",
              "       [ True],\n",
              "       [ True],\n",
              "       ...,\n",
              "       [ True],\n",
              "       [False],\n",
              "       [False]])"
            ]
          },
          "metadata": {},
          "execution_count": 34
        }
      ]
    },
    {
      "cell_type": "code",
      "source": [
        "model4.evaluate(x_test, y_test)"
      ],
      "metadata": {
        "colab": {
          "base_uri": "https://localhost:8080/"
        },
        "id": "TMlWa0bGxu7I",
        "outputId": "a33b234d-3237-42a6-cd9e-94172d0ef3b9"
      },
      "execution_count": 42,
      "outputs": [
        {
          "output_type": "stream",
          "name": "stdout",
          "text": [
            "173/173 [==============================] - 1s 6ms/step - loss: 0.1480 - accuracy: 0.9534\n"
          ]
        },
        {
          "output_type": "execute_result",
          "data": {
            "text/plain": [
              "[0.14796435832977295, 0.953374445438385]"
            ]
          },
          "metadata": {},
          "execution_count": 42
        }
      ]
    },
    {
      "cell_type": "code",
      "source": [
        "from sklearn.metrics import precision_score, recall_score, accuracy_score, confusion_matrix,f1_score"
      ],
      "metadata": {
        "id": "7dtfgzO0t0U7"
      },
      "execution_count": 35,
      "outputs": []
    },
    {
      "cell_type": "code",
      "source": [
        "precision_score(y_test,yhat)"
      ],
      "metadata": {
        "colab": {
          "base_uri": "https://localhost:8080/"
        },
        "id": "DFcCKshkt_ym",
        "outputId": "8a430ef3-f141-4cb0-a401-4c75438f91e9"
      },
      "execution_count": 36,
      "outputs": [
        {
          "output_type": "execute_result",
          "data": {
            "text/plain": [
              "0.9787151702786377"
            ]
          },
          "metadata": {},
          "execution_count": 36
        }
      ]
    },
    {
      "cell_type": "code",
      "source": [
        "recall_score(y_test,yhat)"
      ],
      "metadata": {
        "colab": {
          "base_uri": "https://localhost:8080/"
        },
        "id": "fwLRhVu-t_e2",
        "outputId": "cac56781-c901-44cb-814d-6b3fd7fc48ff"
      },
      "execution_count": 37,
      "outputs": [
        {
          "output_type": "execute_result",
          "data": {
            "text/plain": [
              "0.9260344196265105"
            ]
          },
          "metadata": {},
          "execution_count": 37
        }
      ]
    },
    {
      "cell_type": "code",
      "source": [
        "f1_score(y_test,yhat)"
      ],
      "metadata": {
        "colab": {
          "base_uri": "https://localhost:8080/"
        },
        "id": "QQx-PjNwt1uL",
        "outputId": "30c8b091-ee2c-4f77-d690-004d946650bb"
      },
      "execution_count": 38,
      "outputs": [
        {
          "output_type": "execute_result",
          "data": {
            "text/plain": [
              "0.9516462841015993"
            ]
          },
          "metadata": {},
          "execution_count": 38
        }
      ]
    },
    {
      "cell_type": "code",
      "source": [
        "import matplotlib.pyplot as plt\n",
        "import seaborn as sns"
      ],
      "metadata": {
        "id": "TcNREe1euXTp"
      },
      "execution_count": 39,
      "outputs": []
    },
    {
      "cell_type": "code",
      "source": [
        "from sklearn.metrics import confusion_matrix\n",
        "cf_matrix=confusion_matrix(yhat,y_test)\n",
        "print(cf_matrix)\n",
        "sns.heatmap(cf_matrix/np.sum(cf_matrix), annot=True, fmt='.2%', cmap='Purples')"
      ],
      "metadata": {
        "colab": {
          "base_uri": "https://localhost:8080/",
          "height": 317
        },
        "id": "pZUCyUWquZ-8",
        "outputId": "7aa5a3a5-03ed-4dc5-e7bd-7fef10aaa4e0"
      },
      "execution_count": 40,
      "outputs": [
        {
          "output_type": "stream",
          "name": "stdout",
          "text": [
            "[[2726  202]\n",
            " [  55 2529]]\n"
          ]
        },
        {
          "output_type": "execute_result",
          "data": {
            "text/plain": [
              "<AxesSubplot:>"
            ]
          },
          "metadata": {},
          "execution_count": 40
        },
        {
          "output_type": "display_data",
          "data": {
            "text/plain": [
              "<Figure size 432x288 with 2 Axes>"
            ],
            "image/png": "[encoded data removed]"
          },
          "metadata": {
            "needs_background": "light"
          }
        }
      ]
    },
    {
      "cell_type": "code",
      "source": [
        "import keras"
      ],
      "metadata": {
        "id": "__M18QLBwDp5"
      },
      "execution_count": 41,
      "outputs": []
    },
    {
      "cell_type": "code",
      "source": [
        "plt.plot(history.history['accuracy'])\n",
        "plt.plot(history.history['val_accuracy'])\n",
        "plt.title('model accuracy')\n",
        "plt.ylabel('accuracy')\n",
        "plt.xlabel('epoch')\n",
        "plt.legend(['train', 'val'], loc='lower right')\n",
        "plt.show()"
      ],
      "metadata": {
        "colab": {
          "base_uri": "https://localhost:8080/",
          "height": 295
        },
        "id": "SuUTixhXubOL",
        "outputId": "e1bdf714-901e-4f01-b3d7-27026c1b4092"
      },
      "execution_count": 47,
      "outputs": [
        {
          "output_type": "display_data",
          "data": {
            "text/plain": [
              "<Figure size 432x288 with 1 Axes>"
            ],
            "image/png": "[encoded data removed]"
          },
          "metadata": {
            "needs_background": "light"
          }
        }
      ]
    },
    {
      "cell_type": "code",
      "source": [
        ""
      ],
      "metadata": {
        "id": "0bRTqlBUwJJa"
      },
      "execution_count": null,
      "outputs": []
    }
  ]
}