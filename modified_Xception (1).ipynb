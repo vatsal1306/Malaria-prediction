{
  "nbformat": 4,
  "nbformat_minor": 0,
  "metadata": {
    "colab": {
      "name": "modified_Xception.ipynb",
      "provenance": [],
      "collapsed_sections": []
    },
    "kernelspec": {
      "name": "python3",
      "display_name": "Python 3"
    },
    "language_info": {
      "name": "python"
    }
  },
  "cells": [
    {
      "cell_type": "code",
      "execution_count": null,
      "metadata": {
        "id": "-7bNsHh_wxC4"
      },
      "outputs": [],
      "source": [
        "from google.colab import drive\n",
        "drive.mount('/content/drive')"
      ]
    },
    {
      "cell_type": "code",
      "source": [
        "import numpy as np\n",
        "import matplotlib.pyplot as plt\n",
        "import os\n",
        "from tqdm import tqdm\n",
        "import cv2 as cv\n",
        "from PIL import Image"
      ],
      "metadata": {
        "id": "pWmMQweT2mEv"
      },
      "execution_count": 33,
      "outputs": []
    },
    {
      "cell_type": "code",
      "source": [
        "%matplotlib inline"
      ],
      "metadata": {
        "id": "jjLrihl52mLH"
      },
      "execution_count": 34,
      "outputs": []
    },
    {
      "cell_type": "code",
      "source": [
        "%cd '/content/drive/MyDrive/Datasets/Malaria/cell_images/'"
      ],
      "metadata": {
        "id": "KOrLJ41G2_mZ"
      },
      "execution_count": null,
      "outputs": []
    },
    {
      "cell_type": "code",
      "source": [
        "%cd D:\\Manu sir\\Malaria\\cell_images"
      ],
      "metadata": {
        "colab": {
          "base_uri": "https://localhost:8080/"
        },
        "id": "IErvpiNyvPau",
        "outputId": "93fed630-dc4f-42df-8898-5f5378f4cf35"
      },
      "execution_count": 35,
      "outputs": [
        {
          "output_type": "stream",
          "name": "stdout",
          "text": [
            "D:\\Manu sir\\Malaria\\cell_images\n"
          ]
        }
      ]
    },
    {
      "cell_type": "code",
      "source": [
        "un=\"Uninfected\"\n",
        "#print(\"no of uninfected images : \",len(os.listdir(un)))"
      ],
      "metadata": {
        "id": "VU6AJ2Km2mSL"
      },
      "execution_count": 36,
      "outputs": []
    },
    {
      "cell_type": "code",
      "source": [
        "para=\"Parasitized\"\n",
        "#print(\"No parasitized images : \",len(os.listdir(para)))"
      ],
      "metadata": {
        "id": "plIB23Mk2mYS"
      },
      "execution_count": 37,
      "outputs": []
    },
    {
      "cell_type": "code",
      "source": [
        "for image in tqdm(os.listdir(un)):\n",
        "    if image!=\"Thumbs.db\":\n",
        "        img=cv.imread(os.path.join(un,image))\n",
        "        print(img.shape)\n",
        "        break"
      ],
      "metadata": {
        "id": "lxJrFqV02meA",
        "colab": {
          "base_uri": "https://localhost:8080/"
        },
        "outputId": "23c43f9a-3370-4e2d-fbeb-60e83e849fb6"
      },
      "execution_count": 19,
      "outputs": [
        {
          "output_type": "stream",
          "name": "stderr",
          "text": [
            "  0%|                                                                                        | 0/13780 [00:00<?, ?it/s]"
          ]
        },
        {
          "output_type": "stream",
          "name": "stdout",
          "text": [
            "(139, 160, 3)\n"
          ]
        },
        {
          "output_type": "stream",
          "name": "stderr",
          "text": [
            "\n"
          ]
        }
      ]
    },
    {
      "cell_type": "code",
      "source": [
        "unin=[]\n",
        "for image in tqdm(os.listdir(un)):\n",
        "    if image!=\"Thumbs.db\":\n",
        "        img=Image.open(os.path.join(un,image))\n",
        "        img=img.resize((64,64))\n",
        "        img=np.asarray(img)\n",
        "        unin.append(img)"
      ],
      "metadata": {
        "id": "ULDmgr442mjE",
        "colab": {
          "base_uri": "https://localhost:8080/"
        },
        "outputId": "6a2199fa-07ee-475f-c155-26ad029f4647"
      },
      "execution_count": 38,
      "outputs": [
        {
          "output_type": "stream",
          "name": "stderr",
          "text": [
            "100%|███████████████████████████████████████████████████████████████████████████| 13780/13780 [01:41<00:00, 135.11it/s]\n"
          ]
        }
      ]
    },
    {
      "cell_type": "code",
      "source": [
        "print(len(unin[794]))\n",
        "print(len(unin[7]))"
      ],
      "metadata": {
        "id": "O9lrDyRT2mnj",
        "colab": {
          "base_uri": "https://localhost:8080/"
        },
        "outputId": "45b25959-2ce7-4a1b-c97f-fcd8b223bf3d"
      },
      "execution_count": 21,
      "outputs": [
        {
          "output_type": "stream",
          "name": "stdout",
          "text": [
            "64\n",
            "64\n"
          ]
        }
      ]
    },
    {
      "cell_type": "code",
      "source": [
        "par=[]\n",
        "for image in tqdm(os.listdir(para)):\n",
        "    if image!=\"Thumbs.db\":\n",
        "        img=Image.open(os.path.join(para,image))\n",
        "        img=img.resize((64,64))\n",
        "        img=np.asarray(img)\n",
        "        par.append(img)"
      ],
      "metadata": {
        "id": "ICHeQM432mr0",
        "colab": {
          "base_uri": "https://localhost:8080/"
        },
        "outputId": "8a384eeb-5918-4ef8-b3eb-8e975c04b301"
      },
      "execution_count": 39,
      "outputs": [
        {
          "output_type": "stream",
          "name": "stderr",
          "text": [
            "100%|███████████████████████████████████████████████████████████████████████████| 13780/13780 [01:33<00:00, 148.02it/s]\n"
          ]
        }
      ]
    },
    {
      "cell_type": "code",
      "source": [
        "print(len(par))"
      ],
      "metadata": {
        "id": "KqGQ5BA12mv5",
        "colab": {
          "base_uri": "https://localhost:8080/"
        },
        "outputId": "4f68b0f3-cc53-4fff-a657-7e0b3dc6ae28"
      },
      "execution_count": 23,
      "outputs": [
        {
          "output_type": "stream",
          "name": "stdout",
          "text": [
            "13779\n"
          ]
        }
      ]
    },
    {
      "cell_type": "code",
      "source": [
        "print(len(unin))"
      ],
      "metadata": {
        "colab": {
          "base_uri": "https://localhost:8080/"
        },
        "id": "j9DnUsdCziGx",
        "outputId": "53646d0e-10c0-4f69-b8b1-1d889725441d"
      },
      "execution_count": 24,
      "outputs": [
        {
          "output_type": "stream",
          "name": "stdout",
          "text": [
            "13779\n"
          ]
        }
      ]
    },
    {
      "cell_type": "code",
      "source": [
        "ov_images=unin+par"
      ],
      "metadata": {
        "id": "FKKLap3X2mzx"
      },
      "execution_count": 40,
      "outputs": []
    },
    {
      "cell_type": "code",
      "source": [
        "print(len(ov_images))"
      ],
      "metadata": {
        "id": "KNSC5R5T2m3V",
        "colab": {
          "base_uri": "https://localhost:8080/"
        },
        "outputId": "f7a314f9-a378-4526-a2db-36c6e9bfb7d6"
      },
      "execution_count": 26,
      "outputs": [
        {
          "output_type": "stream",
          "name": "stdout",
          "text": [
            "27558\n"
          ]
        }
      ]
    },
    {
      "cell_type": "code",
      "source": [
        "labels=([0]*(len(os.listdir(un))-1))+([1]*(len(os.listdir(para))-1))"
      ],
      "metadata": {
        "id": "ZMfgEZnF2m7W"
      },
      "execution_count": 41,
      "outputs": []
    },
    {
      "cell_type": "code",
      "source": [
        "print(len(labels))"
      ],
      "metadata": {
        "id": "yUg6ARHM2m-2"
      },
      "execution_count": null,
      "outputs": []
    },
    {
      "cell_type": "code",
      "source": [
        "ov_images=np.array(ov_images)"
      ],
      "metadata": {
        "id": "qAq8UaST2nCV"
      },
      "execution_count": 42,
      "outputs": []
    },
    {
      "cell_type": "code",
      "source": [
        "labels=np.array(labels)"
      ],
      "metadata": {
        "id": "fkNS1rZQ2nGH"
      },
      "execution_count": 43,
      "outputs": []
    },
    {
      "cell_type": "code",
      "source": [
        "ov_images=ov_images/255"
      ],
      "metadata": {
        "id": "tDllEUIK2nJ8"
      },
      "execution_count": 44,
      "outputs": []
    },
    {
      "cell_type": "code",
      "source": [
        "from sklearn.utils import shuffle"
      ],
      "metadata": {
        "id": "nRrK7u2E2nMz"
      },
      "execution_count": 45,
      "outputs": []
    },
    {
      "cell_type": "code",
      "source": [
        "ov_images,labels=shuffle(ov_images,labels)"
      ],
      "metadata": {
        "id": "aSCnS_tU2nQM"
      },
      "execution_count": 46,
      "outputs": []
    },
    {
      "cell_type": "code",
      "source": [
        "from sklearn.model_selection import train_test_split"
      ],
      "metadata": {
        "id": "vlA5fv9m2nTa"
      },
      "execution_count": 47,
      "outputs": []
    },
    {
      "cell_type": "code",
      "source": [
        "x_train,x_test,y_train,y_test=train_test_split(ov_images,labels,test_size=0.2)"
      ],
      "metadata": {
        "id": "cw847YUs2nW5"
      },
      "execution_count": 48,
      "outputs": []
    },
    {
      "cell_type": "code",
      "source": [
        "print(x_train.shape,y_train.shape)"
      ],
      "metadata": {
        "id": "QnTqPIfQ2naE",
        "colab": {
          "base_uri": "https://localhost:8080/"
        },
        "outputId": "17c39a48-7732-4e0e-8cf2-6c8e0b6d7ed2"
      },
      "execution_count": 49,
      "outputs": [
        {
          "output_type": "stream",
          "name": "stdout",
          "text": [
            "(22046, 64, 64, 3) (22046,)\n"
          ]
        }
      ]
    },
    {
      "cell_type": "code",
      "source": [
        "print(x_test.shape,y_test.shape)"
      ],
      "metadata": {
        "id": "MCqTiI5E3-uZ",
        "colab": {
          "base_uri": "https://localhost:8080/"
        },
        "outputId": "40dbc127-37e4-4347-bd91-423a35119213"
      },
      "execution_count": 50,
      "outputs": [
        {
          "output_type": "stream",
          "name": "stdout",
          "text": [
            "(5512, 64, 64, 3) (5512,)\n"
          ]
        }
      ]
    },
    {
      "cell_type": "code",
      "source": [
        "import tensorflow\n",
        "import keras\n",
        "import torch\n",
        "import torch.nn as nn\n",
        "from tensorflow.keras.models import Sequential\n",
        "from tensorflow.keras.layers import Dense, Conv2D, MaxPooling2D, Dropout, Flatten, BatchNormalization, Activation\n",
        "from keras import Model\n",
        "from tensorflow.keras.optimizers import Adam\n",
        "from tensorflow.keras.preprocessing.image import ImageDataGenerator\n",
        "from tensorflow.keras.callbacks import EarlyStopping"
      ],
      "metadata": {
        "id": "yXu4QwBW3-3G"
      },
      "execution_count": 51,
      "outputs": []
    },
    {
      "cell_type": "code",
      "source": [
        "import os\n",
        "import shutil\n",
        "\n",
        "import numpy as np\n",
        "import pandas as pd\n",
        "\n",
        "import seaborn as sns\n",
        "import matplotlib.pyplot as plt\n",
        "\n",
        "import tensorflow as tf"
      ],
      "metadata": {
        "id": "blBN93nwMQ3-"
      },
      "execution_count": 52,
      "outputs": []
    },
    {
      "cell_type": "code",
      "source": [
        "data_augmentation = tf.keras.Sequential([\n",
        "  tf.keras.layers.experimental.preprocessing.RandomFlip('horizontal'),\n",
        "  tf.keras.layers.experimental.preprocessing.RandomHeight(factor=(0.2, 0.3)),\n",
        "  tf.keras.layers.experimental.preprocessing.RandomWidth(factor=(0.2, 0.3)),\n",
        "  tf.keras.layers.experimental.preprocessing.RandomRotation(0.2),\n",
        "])"
      ],
      "metadata": {
        "id": "rZh5CyPNSV7U"
      },
      "execution_count": 53,
      "outputs": []
    },
    {
      "cell_type": "code",
      "source": [
        "import tensorflow as tf\n",
        "from tensorflow.keras import Sequential\n",
        "from tensorflow.keras.layers import Flatten, Dense, Conv2D, MaxPool2D, Dropout\n",
        "\n",
        "from tensorflow.keras.preprocessing.image import ImageDataGenerator\n"
      ],
      "metadata": {
        "id": "QzoAqEnBS7AQ"
      },
      "execution_count": 54,
      "outputs": []
    },
    {
      "cell_type": "code",
      "source": [
        "model4 = Sequential()\n",
        "\n",
        "model4.add(Conv2D(16, (3,3), input_shape = (64, 64, 3), activation='relu'))\n",
        "model4.add(MaxPool2D(2,2))\n",
        "model4.add(Dropout(0.2))\n",
        "\n",
        "model4.add(Conv2D(32, (3,3), activation='relu'))\n",
        "model4.add(MaxPool2D(2,2))\n",
        "model4.add(Dropout(0.3))\n",
        "\n",
        "model4.add(Flatten())\n",
        "model4.add(Dense(64, activation='relu'))\n",
        "model4.add(Dropout(0.5))\n",
        "\n",
        "model4.add(Dense(1, activation='sigmoid'))"
      ],
      "metadata": {
        "id": "PhMo6PQZSzD6"
      },
      "execution_count": 55,
      "outputs": []
    },
    {
      "cell_type": "code",
      "source": [
        "model4.compile(optimizer='adam', loss='binary_crossentropy', metrics = ['accuracy'])"
      ],
      "metadata": {
        "id": "B-6dEAOkS9y1"
      },
      "execution_count": 57,
      "outputs": []
    },
    {
      "cell_type": "code",
      "source": [
        "history = model4.fit(x_train,y_train,\n",
        "                              epochs = 20,\n",
        "                              validation_data=(x_test,y_test))"
      ],
      "metadata": {
        "colab": {
          "base_uri": "https://localhost:8080/"
        },
        "id": "vIScL75rTAHw",
        "outputId": "f2888574-11a8-46c3-8c1c-260c274a4184"
      },
      "execution_count": 58,
      "outputs": [
        {
          "output_type": "stream",
          "name": "stdout",
          "text": [
            "Epoch 1/20\n",
            "689/689 [==============================] - 32s 42ms/step - loss: 0.5894 - accuracy: 0.6867 - val_loss: 0.3938 - val_accuracy: 0.8681\n",
            "Epoch 2/20\n",
            "689/689 [==============================] - 28s 41ms/step - loss: 0.2719 - accuracy: 0.9070 - val_loss: 0.2030 - val_accuracy: 0.9390\n",
            "Epoch 3/20\n",
            "689/689 [==============================] - 22s 32ms/step - loss: 0.2129 - accuracy: 0.9337 - val_loss: 0.1770 - val_accuracy: 0.9456\n",
            "Epoch 4/20\n",
            "689/689 [==============================] - 22s 31ms/step - loss: 0.1852 - accuracy: 0.9425 - val_loss: 0.1598 - val_accuracy: 0.9512\n",
            "Epoch 5/20\n",
            "689/689 [==============================] - 25s 36ms/step - loss: 0.1716 - accuracy: 0.9478 - val_loss: 0.1519 - val_accuracy: 0.9526\n",
            "Epoch 6/20\n",
            "689/689 [==============================] - 25s 36ms/step - loss: 0.1580 - accuracy: 0.9507 - val_loss: 0.1488 - val_accuracy: 0.9543\n",
            "Epoch 7/20\n",
            "689/689 [==============================] - 24s 34ms/step - loss: 0.1513 - accuracy: 0.9521 - val_loss: 0.1460 - val_accuracy: 0.9548\n",
            "Epoch 8/20\n",
            "689/689 [==============================] - 22s 32ms/step - loss: 0.1428 - accuracy: 0.9548 - val_loss: 0.1439 - val_accuracy: 0.9545\n",
            "Epoch 9/20\n",
            "689/689 [==============================] - 23s 33ms/step - loss: 0.1363 - accuracy: 0.9556 - val_loss: 0.1407 - val_accuracy: 0.9539\n",
            "Epoch 10/20\n",
            "689/689 [==============================] - 22s 33ms/step - loss: 0.1336 - accuracy: 0.9549 - val_loss: 0.1405 - val_accuracy: 0.9537\n",
            "Epoch 11/20\n",
            "689/689 [==============================] - 23s 33ms/step - loss: 0.1282 - accuracy: 0.9570 - val_loss: 0.1462 - val_accuracy: 0.9539\n",
            "Epoch 12/20\n",
            "689/689 [==============================] - 24s 35ms/step - loss: 0.1244 - accuracy: 0.9585 - val_loss: 0.1423 - val_accuracy: 0.9556\n",
            "Epoch 13/20\n",
            "689/689 [==============================] - 23s 34ms/step - loss: 0.1208 - accuracy: 0.9596 - val_loss: 0.1415 - val_accuracy: 0.9532\n",
            "Epoch 14/20\n",
            "689/689 [==============================] - 22s 32ms/step - loss: 0.1193 - accuracy: 0.9607 - val_loss: 0.1412 - val_accuracy: 0.9541\n",
            "Epoch 15/20\n",
            "689/689 [==============================] - 24s 34ms/step - loss: 0.1130 - accuracy: 0.9615 - val_loss: 0.1438 - val_accuracy: 0.9525\n",
            "Epoch 16/20\n",
            "689/689 [==============================] - 22s 32ms/step - loss: 0.1094 - accuracy: 0.9630 - val_loss: 0.1422 - val_accuracy: 0.9543\n",
            "Epoch 17/20\n",
            "689/689 [==============================] - 22s 32ms/step - loss: 0.1078 - accuracy: 0.9639 - val_loss: 0.1486 - val_accuracy: 0.9532\n",
            "Epoch 18/20\n",
            "689/689 [==============================] - 22s 32ms/step - loss: 0.1008 - accuracy: 0.9647 - val_loss: 0.1480 - val_accuracy: 0.9552\n",
            "Epoch 19/20\n",
            "689/689 [==============================] - 22s 32ms/step - loss: 0.0992 - accuracy: 0.9654 - val_loss: 0.1568 - val_accuracy: 0.9539\n",
            "Epoch 20/20\n",
            "689/689 [==============================] - 22s 31ms/step - loss: 0.0983 - accuracy: 0.9664 - val_loss: 0.1607 - val_accuracy: 0.9532\n"
          ]
        }
      ]
    },
    {
      "cell_type": "code",
      "source": [
        "yhat=model4.predict(x_test)>0.5"
      ],
      "metadata": {
        "colab": {
          "base_uri": "https://localhost:8080/"
        },
        "id": "cyujU-_rUbHB",
        "outputId": "4a8ce966-36f2-472f-9103-30cfac5ae4b1"
      },
      "execution_count": 59,
      "outputs": [
        {
          "output_type": "stream",
          "name": "stdout",
          "text": [
            "173/173 [==============================] - 1s 7ms/step\n"
          ]
        }
      ]
    },
    {
      "cell_type": "code",
      "source": [
        "from sklearn.metrics import precision_score, recall_score, accuracy_score, confusion_matrix,f1_score"
      ],
      "metadata": {
        "id": "yqSxoSFgGuTm"
      },
      "execution_count": 60,
      "outputs": []
    },
    {
      "cell_type": "code",
      "source": [
        "f1_score(y_test,yhat)"
      ],
      "metadata": {
        "colab": {
          "base_uri": "https://localhost:8080/"
        },
        "id": "I-YwVnkvGyJB",
        "outputId": "dd07f0a3-9b79-436f-a84f-7c7163126446"
      },
      "execution_count": 61,
      "outputs": [
        {
          "output_type": "execute_result",
          "data": {
            "text/plain": [
              "0.9524511610762993"
            ]
          },
          "metadata": {},
          "execution_count": 61
        }
      ]
    },
    {
      "cell_type": "code",
      "source": [
        "import matplotlib.pyplot as plt\n",
        "import seaborn as sns"
      ],
      "metadata": {
        "id": "lIeUZfleGzZ2"
      },
      "execution_count": 62,
      "outputs": []
    },
    {
      "cell_type": "code",
      "source": [
        "from sklearn.metrics import confusion_matrix\n",
        "cf_matrix=confusion_matrix(yhat,y_test)\n",
        "print(cf_matrix)\n",
        "sns.heatmap(cf_matrix/np.sum(cf_matrix), annot=True, fmt='.2%', cmap='Purples')"
      ],
      "metadata": {
        "colab": {
          "base_uri": "https://localhost:8080/",
          "height": 317
        },
        "id": "Bn6QACy5G1g5",
        "outputId": "285193ff-f7f6-48ea-be95-94a27e4a4f06"
      },
      "execution_count": 63,
      "outputs": [
        {
          "output_type": "stream",
          "name": "stdout",
          "text": [
            "[[2670  182]\n",
            " [  76 2584]]\n"
          ]
        },
        {
          "output_type": "execute_result",
          "data": {
            "text/plain": [
              "<AxesSubplot:>"
            ]
          },
          "metadata": {},
          "execution_count": 63
        },
        {
          "output_type": "display_data",
          "data": {
            "text/plain": [
              "<Figure size 432x288 with 2 Axes>"
            ],
            "image/png": "[encoded data removed]"
          },
          "metadata": {
            "needs_background": "light"
          }
        }
      ]
    },
    {
      "cell_type": "code",
      "source": [
        ""
      ],
      "metadata": {
        "id": "izH4idgHG2sq"
      },
      "execution_count": null,
      "outputs": []
    }
  ]
}